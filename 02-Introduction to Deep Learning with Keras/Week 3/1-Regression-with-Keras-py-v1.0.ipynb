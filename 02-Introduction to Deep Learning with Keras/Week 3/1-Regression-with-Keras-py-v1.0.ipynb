{
 "cells": [
  {
   "cell_type": "markdown",
   "metadata": {},
   "source": [
    "<a href=\"https://cognitiveclass.ai/?utm_medium=Exinfluencer&utm_source=Exinfluencer&utm_content=000026UJ&utm_term=10006555&utm_id=NA-SkillsNetwork-Channel-SkillsNetworkCoursesIBMDeveloperSkillsNetworkDL0101ENSkillsNetwork945-2022-01-01\"><img src=\"https://cf-courses-data.s3.us.cloud-object-storage.appdomain.cloud/IBMDeveloperSkillsNetwork-DL0101EN-SkillsNetwork/images/IDSN-logo.png\" width=\"400\"> </a>\n",
    "\n",
    "<h1 align=center><font size = 5>Regression Models with Keras</font></h1>\n"
   ]
  },
  {
   "cell_type": "markdown",
   "metadata": {},
   "source": [
    "## Introduction\n"
   ]
  },
  {
   "cell_type": "markdown",
   "metadata": {},
   "source": [
    "As we discussed in the videos, despite the popularity of more powerful libraries such as PyToch and TensorFlow, they are not easy to use and have a steep learning curve. So, for people who are just starting to learn deep learning, there is no better library to use other than the Keras library. \n",
    "\n",
    "Keras is a high-level API for building deep learning models. It has gained favor for its ease of use and syntactic simplicity facilitating fast development. As you will see in this lab and the other labs in this course, building a very complex deep learning network can be achieved with Keras with only few lines of code. You will appreciate Keras even more, once you learn how to build deep models using PyTorch and TensorFlow in the other courses.\n",
    "\n",
    "So, in this lab, you will learn how to use the Keras library to build a regression model.\n"
   ]
  },
  {
   "cell_type": "markdown",
   "metadata": {},
   "source": [
    "<h2>Regression Models with Keras</h2>\n",
    "\n",
    "<h3>Objective for this Notebook<h3>    \n",
    "<h5> 1. How to use the Keras library to build a regression model.</h5>\n",
    "<h5> 2. Download and Clean dataset </h5>\n",
    "<h5> 3. Build a Neural Network </h5>\n",
    "<h5> 4. Train and Test the Network. </h5>     \n",
    "\n"
   ]
  },
  {
   "cell_type": "markdown",
   "metadata": {},
   "source": [
    "## Table of Contents\n",
    "\n",
    "<div class=\"alert alert-block alert-info\" style=\"margin-top: 20px\">\n",
    "\n",
    "<font size = 3>\n",
    "    \n",
    "1. <a href=\"#item31\">Download and Clean Dataset</a>  \n",
    "2. <a href=\"#item32\">Import Keras</a>  \n",
    "3. <a href=\"#item33\">Build a Neural Network</a>  \n",
    "4. <a href=\"#item34\">Train and Test the Network</a>  \n",
    "\n",
    "</font>\n",
    "</div>\n"
   ]
  },
  {
   "cell_type": "markdown",
   "metadata": {},
   "source": [
    "<a id=\"item31\"></a>\n"
   ]
  },
  {
   "cell_type": "markdown",
   "metadata": {},
   "source": [
    "## Download and Clean Dataset\n"
   ]
  },
  {
   "cell_type": "markdown",
   "metadata": {},
   "source": [
    "Let's start by importing the <em>pandas</em> and the Numpy libraries.\n"
   ]
  },
  {
   "cell_type": "code",
   "execution_count": 26,
   "metadata": {},
   "outputs": [],
   "source": [
    "# All Libraries required for this lab are listed below. The libraries pre-installed on Skills Network Labs are commented. \n",
    "# If you run this notebook on a different environment, e.g. your desktop, you may need to uncomment and install certain libraries.\n",
    "\n",
    "#!pip install numpy==1.21.4\n",
    "#!pip install pandas==1.3.4\n",
    "#!pip install keras==2.1.6"
   ]
  },
  {
   "cell_type": "code",
   "execution_count": 27,
   "metadata": {
    "tags": []
   },
   "outputs": [],
   "source": [
    "import pandas as pd\n",
    "import numpy as np"
   ]
  },
  {
   "cell_type": "markdown",
   "metadata": {},
   "source": [
    "We will be playing around with the same dataset that we used in the videos.\n",
    "\n",
    "<strong>The dataset is about the compressive strength of different samples of concrete based on the volumes of the different ingredients that were used to make them. Ingredients include:</strong>\n",
    "\n",
    "<strong>1. Cement</strong>\n",
    "\n",
    "<strong>2. Blast Furnace Slag</strong>\n",
    "\n",
    "<strong>3. Fly Ash</strong>\n",
    "\n",
    "<strong>4. Water</strong>\n",
    "\n",
    "<strong>5. Superplasticizer</strong>\n",
    "\n",
    "<strong>6. Coarse Aggregate</strong>\n",
    "\n",
    "<strong>7. Fine Aggregate</strong>\n"
   ]
  },
  {
   "cell_type": "markdown",
   "metadata": {},
   "source": [
    "Let's download the data and read it into a <em>pandas</em> dataframe.\n"
   ]
  },
  {
   "cell_type": "code",
   "execution_count": 28,
   "metadata": {
    "tags": []
   },
   "outputs": [
    {
     "data": {
      "text/html": [
       "<div>\n",
       "<style scoped>\n",
       "    .dataframe tbody tr th:only-of-type {\n",
       "        vertical-align: middle;\n",
       "    }\n",
       "\n",
       "    .dataframe tbody tr th {\n",
       "        vertical-align: top;\n",
       "    }\n",
       "\n",
       "    .dataframe thead th {\n",
       "        text-align: right;\n",
       "    }\n",
       "</style>\n",
       "<table border=\"1\" class=\"dataframe\">\n",
       "  <thead>\n",
       "    <tr style=\"text-align: right;\">\n",
       "      <th></th>\n",
       "      <th>Cement</th>\n",
       "      <th>Blast Furnace Slag</th>\n",
       "      <th>Fly Ash</th>\n",
       "      <th>Water</th>\n",
       "      <th>Superplasticizer</th>\n",
       "      <th>Coarse Aggregate</th>\n",
       "      <th>Fine Aggregate</th>\n",
       "      <th>Age</th>\n",
       "      <th>Strength</th>\n",
       "    </tr>\n",
       "  </thead>\n",
       "  <tbody>\n",
       "    <tr>\n",
       "      <th>0</th>\n",
       "      <td>540.0</td>\n",
       "      <td>0.0</td>\n",
       "      <td>0.0</td>\n",
       "      <td>162.0</td>\n",
       "      <td>2.5</td>\n",
       "      <td>1040.0</td>\n",
       "      <td>676.0</td>\n",
       "      <td>28</td>\n",
       "      <td>79.99</td>\n",
       "    </tr>\n",
       "    <tr>\n",
       "      <th>1</th>\n",
       "      <td>540.0</td>\n",
       "      <td>0.0</td>\n",
       "      <td>0.0</td>\n",
       "      <td>162.0</td>\n",
       "      <td>2.5</td>\n",
       "      <td>1055.0</td>\n",
       "      <td>676.0</td>\n",
       "      <td>28</td>\n",
       "      <td>61.89</td>\n",
       "    </tr>\n",
       "    <tr>\n",
       "      <th>2</th>\n",
       "      <td>332.5</td>\n",
       "      <td>142.5</td>\n",
       "      <td>0.0</td>\n",
       "      <td>228.0</td>\n",
       "      <td>0.0</td>\n",
       "      <td>932.0</td>\n",
       "      <td>594.0</td>\n",
       "      <td>270</td>\n",
       "      <td>40.27</td>\n",
       "    </tr>\n",
       "    <tr>\n",
       "      <th>3</th>\n",
       "      <td>332.5</td>\n",
       "      <td>142.5</td>\n",
       "      <td>0.0</td>\n",
       "      <td>228.0</td>\n",
       "      <td>0.0</td>\n",
       "      <td>932.0</td>\n",
       "      <td>594.0</td>\n",
       "      <td>365</td>\n",
       "      <td>41.05</td>\n",
       "    </tr>\n",
       "    <tr>\n",
       "      <th>4</th>\n",
       "      <td>198.6</td>\n",
       "      <td>132.4</td>\n",
       "      <td>0.0</td>\n",
       "      <td>192.0</td>\n",
       "      <td>0.0</td>\n",
       "      <td>978.4</td>\n",
       "      <td>825.5</td>\n",
       "      <td>360</td>\n",
       "      <td>44.30</td>\n",
       "    </tr>\n",
       "  </tbody>\n",
       "</table>\n",
       "</div>"
      ],
      "text/plain": [
       "   Cement  Blast Furnace Slag  Fly Ash  Water  Superplasticizer  \\\n",
       "0   540.0                 0.0      0.0  162.0               2.5   \n",
       "1   540.0                 0.0      0.0  162.0               2.5   \n",
       "2   332.5               142.5      0.0  228.0               0.0   \n",
       "3   332.5               142.5      0.0  228.0               0.0   \n",
       "4   198.6               132.4      0.0  192.0               0.0   \n",
       "\n",
       "   Coarse Aggregate  Fine Aggregate  Age  Strength  \n",
       "0            1040.0           676.0   28     79.99  \n",
       "1            1055.0           676.0   28     61.89  \n",
       "2             932.0           594.0  270     40.27  \n",
       "3             932.0           594.0  365     41.05  \n",
       "4             978.4           825.5  360     44.30  "
      ]
     },
     "execution_count": 28,
     "metadata": {},
     "output_type": "execute_result"
    }
   ],
   "source": [
    "concrete_data = pd.read_csv('https://s3-api.us-geo.objectstorage.softlayer.net/cf-courses-data/CognitiveClass/DL0101EN/labs/data/concrete_data.csv')\n",
    "concrete_data.head()"
   ]
  },
  {
   "cell_type": "markdown",
   "metadata": {},
   "source": [
    "So the first concrete sample has 540 cubic meter of cement, 0 cubic meter of blast furnace slag, 0 cubic meter of fly ash, 162 cubic meter of water, 2.5 cubic meter of superplaticizer, 1040 cubic meter of coarse aggregate, 676 cubic meter of fine aggregate. Such a concrete mix which is 28 days old, has a compressive strength of 79.99 MPa. \n"
   ]
  },
  {
   "cell_type": "markdown",
   "metadata": {},
   "source": [
    "#### Let's check how many data points we have.\n"
   ]
  },
  {
   "cell_type": "code",
   "execution_count": 29,
   "metadata": {
    "tags": []
   },
   "outputs": [
    {
     "data": {
      "text/plain": [
       "(1030, 9)"
      ]
     },
     "execution_count": 29,
     "metadata": {},
     "output_type": "execute_result"
    }
   ],
   "source": [
    "concrete_data.shape"
   ]
  },
  {
   "cell_type": "markdown",
   "metadata": {},
   "source": [
    "So, there are approximately 1000 samples to train our model on. Because of the few samples, we have to be careful not to overfit the training data.\n"
   ]
  },
  {
   "cell_type": "markdown",
   "metadata": {},
   "source": [
    "Let's check the dataset for any missing values.\n"
   ]
  },
  {
   "cell_type": "code",
   "execution_count": 30,
   "metadata": {
    "tags": []
   },
   "outputs": [
    {
     "data": {
      "text/html": [
       "<div>\n",
       "<style scoped>\n",
       "    .dataframe tbody tr th:only-of-type {\n",
       "        vertical-align: middle;\n",
       "    }\n",
       "\n",
       "    .dataframe tbody tr th {\n",
       "        vertical-align: top;\n",
       "    }\n",
       "\n",
       "    .dataframe thead th {\n",
       "        text-align: right;\n",
       "    }\n",
       "</style>\n",
       "<table border=\"1\" class=\"dataframe\">\n",
       "  <thead>\n",
       "    <tr style=\"text-align: right;\">\n",
       "      <th></th>\n",
       "      <th>Cement</th>\n",
       "      <th>Blast Furnace Slag</th>\n",
       "      <th>Fly Ash</th>\n",
       "      <th>Water</th>\n",
       "      <th>Superplasticizer</th>\n",
       "      <th>Coarse Aggregate</th>\n",
       "      <th>Fine Aggregate</th>\n",
       "      <th>Age</th>\n",
       "      <th>Strength</th>\n",
       "    </tr>\n",
       "  </thead>\n",
       "  <tbody>\n",
       "    <tr>\n",
       "      <th>count</th>\n",
       "      <td>1030.000000</td>\n",
       "      <td>1030.000000</td>\n",
       "      <td>1030.000000</td>\n",
       "      <td>1030.000000</td>\n",
       "      <td>1030.000000</td>\n",
       "      <td>1030.000000</td>\n",
       "      <td>1030.000000</td>\n",
       "      <td>1030.000000</td>\n",
       "      <td>1030.000000</td>\n",
       "    </tr>\n",
       "    <tr>\n",
       "      <th>mean</th>\n",
       "      <td>281.167864</td>\n",
       "      <td>73.895825</td>\n",
       "      <td>54.188350</td>\n",
       "      <td>181.567282</td>\n",
       "      <td>6.204660</td>\n",
       "      <td>972.918932</td>\n",
       "      <td>773.580485</td>\n",
       "      <td>45.662136</td>\n",
       "      <td>35.817961</td>\n",
       "    </tr>\n",
       "    <tr>\n",
       "      <th>std</th>\n",
       "      <td>104.506364</td>\n",
       "      <td>86.279342</td>\n",
       "      <td>63.997004</td>\n",
       "      <td>21.354219</td>\n",
       "      <td>5.973841</td>\n",
       "      <td>77.753954</td>\n",
       "      <td>80.175980</td>\n",
       "      <td>63.169912</td>\n",
       "      <td>16.705742</td>\n",
       "    </tr>\n",
       "    <tr>\n",
       "      <th>min</th>\n",
       "      <td>102.000000</td>\n",
       "      <td>0.000000</td>\n",
       "      <td>0.000000</td>\n",
       "      <td>121.800000</td>\n",
       "      <td>0.000000</td>\n",
       "      <td>801.000000</td>\n",
       "      <td>594.000000</td>\n",
       "      <td>1.000000</td>\n",
       "      <td>2.330000</td>\n",
       "    </tr>\n",
       "    <tr>\n",
       "      <th>25%</th>\n",
       "      <td>192.375000</td>\n",
       "      <td>0.000000</td>\n",
       "      <td>0.000000</td>\n",
       "      <td>164.900000</td>\n",
       "      <td>0.000000</td>\n",
       "      <td>932.000000</td>\n",
       "      <td>730.950000</td>\n",
       "      <td>7.000000</td>\n",
       "      <td>23.710000</td>\n",
       "    </tr>\n",
       "    <tr>\n",
       "      <th>50%</th>\n",
       "      <td>272.900000</td>\n",
       "      <td>22.000000</td>\n",
       "      <td>0.000000</td>\n",
       "      <td>185.000000</td>\n",
       "      <td>6.400000</td>\n",
       "      <td>968.000000</td>\n",
       "      <td>779.500000</td>\n",
       "      <td>28.000000</td>\n",
       "      <td>34.445000</td>\n",
       "    </tr>\n",
       "    <tr>\n",
       "      <th>75%</th>\n",
       "      <td>350.000000</td>\n",
       "      <td>142.950000</td>\n",
       "      <td>118.300000</td>\n",
       "      <td>192.000000</td>\n",
       "      <td>10.200000</td>\n",
       "      <td>1029.400000</td>\n",
       "      <td>824.000000</td>\n",
       "      <td>56.000000</td>\n",
       "      <td>46.135000</td>\n",
       "    </tr>\n",
       "    <tr>\n",
       "      <th>max</th>\n",
       "      <td>540.000000</td>\n",
       "      <td>359.400000</td>\n",
       "      <td>200.100000</td>\n",
       "      <td>247.000000</td>\n",
       "      <td>32.200000</td>\n",
       "      <td>1145.000000</td>\n",
       "      <td>992.600000</td>\n",
       "      <td>365.000000</td>\n",
       "      <td>82.600000</td>\n",
       "    </tr>\n",
       "  </tbody>\n",
       "</table>\n",
       "</div>"
      ],
      "text/plain": [
       "            Cement  Blast Furnace Slag      Fly Ash        Water  \\\n",
       "count  1030.000000         1030.000000  1030.000000  1030.000000   \n",
       "mean    281.167864           73.895825    54.188350   181.567282   \n",
       "std     104.506364           86.279342    63.997004    21.354219   \n",
       "min     102.000000            0.000000     0.000000   121.800000   \n",
       "25%     192.375000            0.000000     0.000000   164.900000   \n",
       "50%     272.900000           22.000000     0.000000   185.000000   \n",
       "75%     350.000000          142.950000   118.300000   192.000000   \n",
       "max     540.000000          359.400000   200.100000   247.000000   \n",
       "\n",
       "       Superplasticizer  Coarse Aggregate  Fine Aggregate          Age  \\\n",
       "count       1030.000000       1030.000000     1030.000000  1030.000000   \n",
       "mean           6.204660        972.918932      773.580485    45.662136   \n",
       "std            5.973841         77.753954       80.175980    63.169912   \n",
       "min            0.000000        801.000000      594.000000     1.000000   \n",
       "25%            0.000000        932.000000      730.950000     7.000000   \n",
       "50%            6.400000        968.000000      779.500000    28.000000   \n",
       "75%           10.200000       1029.400000      824.000000    56.000000   \n",
       "max           32.200000       1145.000000      992.600000   365.000000   \n",
       "\n",
       "          Strength  \n",
       "count  1030.000000  \n",
       "mean     35.817961  \n",
       "std      16.705742  \n",
       "min       2.330000  \n",
       "25%      23.710000  \n",
       "50%      34.445000  \n",
       "75%      46.135000  \n",
       "max      82.600000  "
      ]
     },
     "execution_count": 30,
     "metadata": {},
     "output_type": "execute_result"
    }
   ],
   "source": [
    "concrete_data.describe()"
   ]
  },
  {
   "cell_type": "code",
   "execution_count": 31,
   "metadata": {
    "tags": []
   },
   "outputs": [
    {
     "data": {
      "text/plain": [
       "Cement                0\n",
       "Blast Furnace Slag    0\n",
       "Fly Ash               0\n",
       "Water                 0\n",
       "Superplasticizer      0\n",
       "Coarse Aggregate      0\n",
       "Fine Aggregate        0\n",
       "Age                   0\n",
       "Strength              0\n",
       "dtype: int64"
      ]
     },
     "execution_count": 31,
     "metadata": {},
     "output_type": "execute_result"
    }
   ],
   "source": [
    "concrete_data.isnull().sum()"
   ]
  },
  {
   "cell_type": "markdown",
   "metadata": {},
   "source": [
    "The data looks very clean and is ready to be used to build our model.\n"
   ]
  },
  {
   "cell_type": "markdown",
   "metadata": {},
   "source": [
    "#### Split data into predictors and target\n"
   ]
  },
  {
   "cell_type": "markdown",
   "metadata": {},
   "source": [
    "The target variable in this problem is the concrete sample strength. Therefore, our predictors will be all the other columns.\n"
   ]
  },
  {
   "cell_type": "code",
   "execution_count": 32,
   "metadata": {
    "tags": []
   },
   "outputs": [],
   "source": [
    "concrete_data_columns = concrete_data.columns\n",
    "\n",
    "predictors = concrete_data[concrete_data_columns[concrete_data_columns != 'Strength']] # all columns except Strength\n",
    "target = concrete_data['Strength'] # Strength column"
   ]
  },
  {
   "cell_type": "markdown",
   "metadata": {},
   "source": [
    "<a id=\"item2\"></a>\n"
   ]
  },
  {
   "cell_type": "markdown",
   "metadata": {},
   "source": [
    "Let's do a quick sanity check of the predictors and the target dataframes.\n"
   ]
  },
  {
   "cell_type": "code",
   "execution_count": 33,
   "metadata": {
    "tags": []
   },
   "outputs": [
    {
     "data": {
      "text/html": [
       "<div>\n",
       "<style scoped>\n",
       "    .dataframe tbody tr th:only-of-type {\n",
       "        vertical-align: middle;\n",
       "    }\n",
       "\n",
       "    .dataframe tbody tr th {\n",
       "        vertical-align: top;\n",
       "    }\n",
       "\n",
       "    .dataframe thead th {\n",
       "        text-align: right;\n",
       "    }\n",
       "</style>\n",
       "<table border=\"1\" class=\"dataframe\">\n",
       "  <thead>\n",
       "    <tr style=\"text-align: right;\">\n",
       "      <th></th>\n",
       "      <th>Cement</th>\n",
       "      <th>Blast Furnace Slag</th>\n",
       "      <th>Fly Ash</th>\n",
       "      <th>Water</th>\n",
       "      <th>Superplasticizer</th>\n",
       "      <th>Coarse Aggregate</th>\n",
       "      <th>Fine Aggregate</th>\n",
       "      <th>Age</th>\n",
       "    </tr>\n",
       "  </thead>\n",
       "  <tbody>\n",
       "    <tr>\n",
       "      <th>0</th>\n",
       "      <td>540.0</td>\n",
       "      <td>0.0</td>\n",
       "      <td>0.0</td>\n",
       "      <td>162.0</td>\n",
       "      <td>2.5</td>\n",
       "      <td>1040.0</td>\n",
       "      <td>676.0</td>\n",
       "      <td>28</td>\n",
       "    </tr>\n",
       "    <tr>\n",
       "      <th>1</th>\n",
       "      <td>540.0</td>\n",
       "      <td>0.0</td>\n",
       "      <td>0.0</td>\n",
       "      <td>162.0</td>\n",
       "      <td>2.5</td>\n",
       "      <td>1055.0</td>\n",
       "      <td>676.0</td>\n",
       "      <td>28</td>\n",
       "    </tr>\n",
       "    <tr>\n",
       "      <th>2</th>\n",
       "      <td>332.5</td>\n",
       "      <td>142.5</td>\n",
       "      <td>0.0</td>\n",
       "      <td>228.0</td>\n",
       "      <td>0.0</td>\n",
       "      <td>932.0</td>\n",
       "      <td>594.0</td>\n",
       "      <td>270</td>\n",
       "    </tr>\n",
       "    <tr>\n",
       "      <th>3</th>\n",
       "      <td>332.5</td>\n",
       "      <td>142.5</td>\n",
       "      <td>0.0</td>\n",
       "      <td>228.0</td>\n",
       "      <td>0.0</td>\n",
       "      <td>932.0</td>\n",
       "      <td>594.0</td>\n",
       "      <td>365</td>\n",
       "    </tr>\n",
       "    <tr>\n",
       "      <th>4</th>\n",
       "      <td>198.6</td>\n",
       "      <td>132.4</td>\n",
       "      <td>0.0</td>\n",
       "      <td>192.0</td>\n",
       "      <td>0.0</td>\n",
       "      <td>978.4</td>\n",
       "      <td>825.5</td>\n",
       "      <td>360</td>\n",
       "    </tr>\n",
       "  </tbody>\n",
       "</table>\n",
       "</div>"
      ],
      "text/plain": [
       "   Cement  Blast Furnace Slag  Fly Ash  Water  Superplasticizer  \\\n",
       "0   540.0                 0.0      0.0  162.0               2.5   \n",
       "1   540.0                 0.0      0.0  162.0               2.5   \n",
       "2   332.5               142.5      0.0  228.0               0.0   \n",
       "3   332.5               142.5      0.0  228.0               0.0   \n",
       "4   198.6               132.4      0.0  192.0               0.0   \n",
       "\n",
       "   Coarse Aggregate  Fine Aggregate  Age  \n",
       "0            1040.0           676.0   28  \n",
       "1            1055.0           676.0   28  \n",
       "2             932.0           594.0  270  \n",
       "3             932.0           594.0  365  \n",
       "4             978.4           825.5  360  "
      ]
     },
     "execution_count": 33,
     "metadata": {},
     "output_type": "execute_result"
    }
   ],
   "source": [
    "predictors.head()"
   ]
  },
  {
   "cell_type": "code",
   "execution_count": 34,
   "metadata": {
    "tags": []
   },
   "outputs": [
    {
     "data": {
      "text/plain": [
       "0    79.99\n",
       "1    61.89\n",
       "2    40.27\n",
       "3    41.05\n",
       "4    44.30\n",
       "Name: Strength, dtype: float64"
      ]
     },
     "execution_count": 34,
     "metadata": {},
     "output_type": "execute_result"
    }
   ],
   "source": [
    "target.head()"
   ]
  },
  {
   "cell_type": "markdown",
   "metadata": {},
   "source": [
    "Finally, the last step is to normalize the data by substracting the mean and dividing by the standard deviation.\n"
   ]
  },
  {
   "cell_type": "code",
   "execution_count": 35,
   "metadata": {
    "tags": []
   },
   "outputs": [
    {
     "data": {
      "text/html": [
       "<div>\n",
       "<style scoped>\n",
       "    .dataframe tbody tr th:only-of-type {\n",
       "        vertical-align: middle;\n",
       "    }\n",
       "\n",
       "    .dataframe tbody tr th {\n",
       "        vertical-align: top;\n",
       "    }\n",
       "\n",
       "    .dataframe thead th {\n",
       "        text-align: right;\n",
       "    }\n",
       "</style>\n",
       "<table border=\"1\" class=\"dataframe\">\n",
       "  <thead>\n",
       "    <tr style=\"text-align: right;\">\n",
       "      <th></th>\n",
       "      <th>Cement</th>\n",
       "      <th>Blast Furnace Slag</th>\n",
       "      <th>Fly Ash</th>\n",
       "      <th>Water</th>\n",
       "      <th>Superplasticizer</th>\n",
       "      <th>Coarse Aggregate</th>\n",
       "      <th>Fine Aggregate</th>\n",
       "      <th>Age</th>\n",
       "    </tr>\n",
       "  </thead>\n",
       "  <tbody>\n",
       "    <tr>\n",
       "      <th>0</th>\n",
       "      <td>2.476712</td>\n",
       "      <td>-0.856472</td>\n",
       "      <td>-0.846733</td>\n",
       "      <td>-0.916319</td>\n",
       "      <td>-0.620147</td>\n",
       "      <td>0.862735</td>\n",
       "      <td>-1.217079</td>\n",
       "      <td>-0.279597</td>\n",
       "    </tr>\n",
       "    <tr>\n",
       "      <th>1</th>\n",
       "      <td>2.476712</td>\n",
       "      <td>-0.856472</td>\n",
       "      <td>-0.846733</td>\n",
       "      <td>-0.916319</td>\n",
       "      <td>-0.620147</td>\n",
       "      <td>1.055651</td>\n",
       "      <td>-1.217079</td>\n",
       "      <td>-0.279597</td>\n",
       "    </tr>\n",
       "    <tr>\n",
       "      <th>2</th>\n",
       "      <td>0.491187</td>\n",
       "      <td>0.795140</td>\n",
       "      <td>-0.846733</td>\n",
       "      <td>2.174405</td>\n",
       "      <td>-1.038638</td>\n",
       "      <td>-0.526262</td>\n",
       "      <td>-2.239829</td>\n",
       "      <td>3.551340</td>\n",
       "    </tr>\n",
       "    <tr>\n",
       "      <th>3</th>\n",
       "      <td>0.491187</td>\n",
       "      <td>0.795140</td>\n",
       "      <td>-0.846733</td>\n",
       "      <td>2.174405</td>\n",
       "      <td>-1.038638</td>\n",
       "      <td>-0.526262</td>\n",
       "      <td>-2.239829</td>\n",
       "      <td>5.055221</td>\n",
       "    </tr>\n",
       "    <tr>\n",
       "      <th>4</th>\n",
       "      <td>-0.790075</td>\n",
       "      <td>0.678079</td>\n",
       "      <td>-0.846733</td>\n",
       "      <td>0.488555</td>\n",
       "      <td>-1.038638</td>\n",
       "      <td>0.070492</td>\n",
       "      <td>0.647569</td>\n",
       "      <td>4.976069</td>\n",
       "    </tr>\n",
       "  </tbody>\n",
       "</table>\n",
       "</div>"
      ],
      "text/plain": [
       "     Cement  Blast Furnace Slag   Fly Ash     Water  Superplasticizer  \\\n",
       "0  2.476712           -0.856472 -0.846733 -0.916319         -0.620147   \n",
       "1  2.476712           -0.856472 -0.846733 -0.916319         -0.620147   \n",
       "2  0.491187            0.795140 -0.846733  2.174405         -1.038638   \n",
       "3  0.491187            0.795140 -0.846733  2.174405         -1.038638   \n",
       "4 -0.790075            0.678079 -0.846733  0.488555         -1.038638   \n",
       "\n",
       "   Coarse Aggregate  Fine Aggregate       Age  \n",
       "0          0.862735       -1.217079 -0.279597  \n",
       "1          1.055651       -1.217079 -0.279597  \n",
       "2         -0.526262       -2.239829  3.551340  \n",
       "3         -0.526262       -2.239829  5.055221  \n",
       "4          0.070492        0.647569  4.976069  "
      ]
     },
     "execution_count": 35,
     "metadata": {},
     "output_type": "execute_result"
    }
   ],
   "source": [
    "predictors_norm = (predictors - predictors.mean()) / predictors.std()\n",
    "predictors_norm.head()"
   ]
  },
  {
   "cell_type": "markdown",
   "metadata": {},
   "source": [
    "Let's save the number of predictors to *n_cols* since we will need this number when building our network.\n"
   ]
  },
  {
   "cell_type": "code",
   "execution_count": 36,
   "metadata": {
    "tags": []
   },
   "outputs": [],
   "source": [
    "n_cols = predictors_norm.shape[1] # number of predictors"
   ]
  },
  {
   "cell_type": "markdown",
   "metadata": {},
   "source": [
    "<a id=\"item1\"></a>\n"
   ]
  },
  {
   "cell_type": "markdown",
   "metadata": {},
   "source": [
    "<a id='item32'></a>\n"
   ]
  },
  {
   "cell_type": "markdown",
   "metadata": {},
   "source": [
    "## Import Keras\n"
   ]
  },
  {
   "cell_type": "markdown",
   "metadata": {},
   "source": [
    "Recall from the videos that Keras normally runs on top of a low-level library such as TensorFlow. This means that to be able to use the Keras library, you will have to install TensorFlow first and when you import the Keras library, it will be explicitly displayed what backend was used to install the Keras library. In CC Labs, we used TensorFlow as the backend to install Keras, so it should clearly print that when we import Keras.\n"
   ]
  },
  {
   "cell_type": "markdown",
   "metadata": {},
   "source": [
    "#### Let's go ahead and import the Keras library\n"
   ]
  },
  {
   "cell_type": "code",
   "execution_count": 37,
   "metadata": {},
   "outputs": [
    {
     "name": "stdout",
     "output_type": "stream",
     "text": [
      "Requirement already satisfied: keras in c:\\users\\provi\\anaconda3\\envs\\data_science_env\\lib\\site-packages (3.8.0)\n",
      "Collecting tensorflow\n",
      "  Downloading tensorflow-2.18.0-cp39-cp39-win_amd64.whl.metadata (3.3 kB)\n",
      "Requirement already satisfied: absl-py in c:\\users\\provi\\anaconda3\\envs\\data_science_env\\lib\\site-packages (from keras) (2.1.0)\n",
      "Requirement already satisfied: numpy in c:\\users\\provi\\anaconda3\\envs\\data_science_env\\lib\\site-packages (from keras) (1.26.4)\n",
      "Requirement already satisfied: rich in c:\\users\\provi\\anaconda3\\envs\\data_science_env\\lib\\site-packages (from keras) (13.9.4)\n",
      "Requirement already satisfied: namex in c:\\users\\provi\\anaconda3\\envs\\data_science_env\\lib\\site-packages (from keras) (0.0.8)\n",
      "Requirement already satisfied: h5py in c:\\users\\provi\\anaconda3\\envs\\data_science_env\\lib\\site-packages (from keras) (3.12.1)\n",
      "Requirement already satisfied: optree in c:\\users\\provi\\anaconda3\\envs\\data_science_env\\lib\\site-packages (from keras) (0.13.1)\n",
      "Requirement already satisfied: ml-dtypes in c:\\users\\provi\\anaconda3\\envs\\data_science_env\\lib\\site-packages (from keras) (0.5.1)\n",
      "Requirement already satisfied: packaging in c:\\users\\provi\\anaconda3\\envs\\data_science_env\\lib\\site-packages (from keras) (24.1)\n",
      "Collecting tensorflow-intel==2.18.0 (from tensorflow)\n",
      "  Downloading tensorflow_intel-2.18.0-cp39-cp39-win_amd64.whl.metadata (4.9 kB)\n",
      "Collecting astunparse>=1.6.0 (from tensorflow-intel==2.18.0->tensorflow)\n",
      "  Downloading astunparse-1.6.3-py2.py3-none-any.whl.metadata (4.4 kB)\n",
      "Collecting flatbuffers>=24.3.25 (from tensorflow-intel==2.18.0->tensorflow)\n",
      "  Downloading flatbuffers-24.12.23-py2.py3-none-any.whl.metadata (876 bytes)\n",
      "Collecting gast!=0.5.0,!=0.5.1,!=0.5.2,>=0.2.1 (from tensorflow-intel==2.18.0->tensorflow)\n",
      "  Downloading gast-0.6.0-py3-none-any.whl.metadata (1.3 kB)\n",
      "Collecting google-pasta>=0.1.1 (from tensorflow-intel==2.18.0->tensorflow)\n",
      "  Downloading google_pasta-0.2.0-py3-none-any.whl.metadata (814 bytes)\n",
      "Collecting libclang>=13.0.0 (from tensorflow-intel==2.18.0->tensorflow)\n",
      "  Downloading libclang-18.1.1-py2.py3-none-win_amd64.whl.metadata (5.3 kB)\n",
      "Collecting opt-einsum>=2.3.2 (from tensorflow-intel==2.18.0->tensorflow)\n",
      "  Downloading opt_einsum-3.4.0-py3-none-any.whl.metadata (6.3 kB)\n",
      "Collecting protobuf!=4.21.0,!=4.21.1,!=4.21.2,!=4.21.3,!=4.21.4,!=4.21.5,<6.0.0dev,>=3.20.3 (from tensorflow-intel==2.18.0->tensorflow)\n",
      "  Downloading protobuf-5.29.2-cp39-cp39-win_amd64.whl.metadata (592 bytes)\n",
      "Requirement already satisfied: requests<3,>=2.21.0 in c:\\users\\provi\\anaconda3\\envs\\data_science_env\\lib\\site-packages (from tensorflow-intel==2.18.0->tensorflow) (2.32.3)\n",
      "Requirement already satisfied: setuptools in c:\\users\\provi\\anaconda3\\envs\\data_science_env\\lib\\site-packages (from tensorflow-intel==2.18.0->tensorflow) (75.1.0)\n",
      "Requirement already satisfied: six>=1.12.0 in c:\\users\\provi\\anaconda3\\envs\\data_science_env\\lib\\site-packages (from tensorflow-intel==2.18.0->tensorflow) (1.16.0)\n",
      "Collecting termcolor>=1.1.0 (from tensorflow-intel==2.18.0->tensorflow)\n",
      "  Downloading termcolor-2.5.0-py3-none-any.whl.metadata (6.1 kB)\n",
      "Requirement already satisfied: typing-extensions>=3.6.6 in c:\\users\\provi\\anaconda3\\envs\\data_science_env\\lib\\site-packages (from tensorflow-intel==2.18.0->tensorflow) (4.12.2)\n",
      "Collecting wrapt>=1.11.0 (from tensorflow-intel==2.18.0->tensorflow)\n",
      "  Downloading wrapt-1.17.0-cp39-cp39-win_amd64.whl.metadata (6.5 kB)\n",
      "Collecting grpcio<2.0,>=1.24.3 (from tensorflow-intel==2.18.0->tensorflow)\n",
      "  Downloading grpcio-1.69.0-cp39-cp39-win_amd64.whl.metadata (4.0 kB)\n",
      "Collecting tensorboard<2.19,>=2.18 (from tensorflow-intel==2.18.0->tensorflow)\n",
      "  Downloading tensorboard-2.18.0-py3-none-any.whl.metadata (1.6 kB)\n",
      "Collecting ml-dtypes (from keras)\n",
      "  Downloading ml_dtypes-0.4.1-cp39-cp39-win_amd64.whl.metadata (20 kB)\n",
      "Collecting tensorflow-io-gcs-filesystem>=0.23.1 (from tensorflow-intel==2.18.0->tensorflow)\n",
      "  Downloading tensorflow_io_gcs_filesystem-0.31.0-cp39-cp39-win_amd64.whl.metadata (14 kB)\n",
      "Requirement already satisfied: markdown-it-py>=2.2.0 in c:\\users\\provi\\anaconda3\\envs\\data_science_env\\lib\\site-packages (from rich->keras) (3.0.0)\n",
      "Requirement already satisfied: pygments<3.0.0,>=2.13.0 in c:\\users\\provi\\anaconda3\\envs\\data_science_env\\lib\\site-packages (from rich->keras) (2.18.0)\n",
      "Requirement already satisfied: wheel<1.0,>=0.23.0 in c:\\users\\provi\\anaconda3\\envs\\data_science_env\\lib\\site-packages (from astunparse>=1.6.0->tensorflow-intel==2.18.0->tensorflow) (0.44.0)\n",
      "Requirement already satisfied: mdurl~=0.1 in c:\\users\\provi\\anaconda3\\envs\\data_science_env\\lib\\site-packages (from markdown-it-py>=2.2.0->rich->keras) (0.1.2)\n",
      "Requirement already satisfied: charset-normalizer<4,>=2 in c:\\users\\provi\\anaconda3\\envs\\data_science_env\\lib\\site-packages (from requests<3,>=2.21.0->tensorflow-intel==2.18.0->tensorflow) (3.4.1)\n",
      "Requirement already satisfied: idna<4,>=2.5 in c:\\users\\provi\\anaconda3\\envs\\data_science_env\\lib\\site-packages (from requests<3,>=2.21.0->tensorflow-intel==2.18.0->tensorflow) (3.10)\n",
      "Requirement already satisfied: urllib3<3,>=1.21.1 in c:\\users\\provi\\anaconda3\\envs\\data_science_env\\lib\\site-packages (from requests<3,>=2.21.0->tensorflow-intel==2.18.0->tensorflow) (2.3.0)\n",
      "Requirement already satisfied: certifi>=2017.4.17 in c:\\users\\provi\\anaconda3\\envs\\data_science_env\\lib\\site-packages (from requests<3,>=2.21.0->tensorflow-intel==2.18.0->tensorflow) (2024.12.14)\n",
      "Collecting markdown>=2.6.8 (from tensorboard<2.19,>=2.18->tensorflow-intel==2.18.0->tensorflow)\n",
      "  Downloading Markdown-3.7-py3-none-any.whl.metadata (7.0 kB)\n",
      "Collecting tensorboard-data-server<0.8.0,>=0.7.0 (from tensorboard<2.19,>=2.18->tensorflow-intel==2.18.0->tensorflow)\n",
      "  Downloading tensorboard_data_server-0.7.2-py3-none-any.whl.metadata (1.1 kB)\n",
      "Collecting werkzeug>=1.0.1 (from tensorboard<2.19,>=2.18->tensorflow-intel==2.18.0->tensorflow)\n",
      "  Downloading werkzeug-3.1.3-py3-none-any.whl.metadata (3.7 kB)\n",
      "Requirement already satisfied: importlib-metadata>=4.4 in c:\\users\\provi\\anaconda3\\envs\\data_science_env\\lib\\site-packages (from markdown>=2.6.8->tensorboard<2.19,>=2.18->tensorflow-intel==2.18.0->tensorflow) (8.5.0)\n",
      "Collecting MarkupSafe>=2.1.1 (from werkzeug>=1.0.1->tensorboard<2.19,>=2.18->tensorflow-intel==2.18.0->tensorflow)\n",
      "  Downloading MarkupSafe-3.0.2-cp39-cp39-win_amd64.whl.metadata (4.1 kB)\n",
      "Collecting zipp>=3.20 (from importlib-metadata>=4.4->markdown>=2.6.8->tensorboard<2.19,>=2.18->tensorflow-intel==2.18.0->tensorflow)\n",
      "  Downloading zipp-3.21.0-py3-none-any.whl.metadata (3.7 kB)\n",
      "Downloading tensorflow-2.18.0-cp39-cp39-win_amd64.whl (7.5 kB)\n",
      "Downloading tensorflow_intel-2.18.0-cp39-cp39-win_amd64.whl (390.0 MB)\n",
      "   ---------------------------------------- 0.0/390.0 MB ? eta -:--:--\n",
      "   ---------------------------------------- 1.6/390.0 MB 9.3 MB/s eta 0:00:42\n",
      "    --------------------------------------- 5.0/390.0 MB 13.7 MB/s eta 0:00:29\n",
      "    --------------------------------------- 8.1/390.0 MB 14.8 MB/s eta 0:00:26\n",
      "   - -------------------------------------- 11.8/390.0 MB 15.1 MB/s eta 0:00:26\n",
      "   - -------------------------------------- 14.7/390.0 MB 15.1 MB/s eta 0:00:25\n",
      "   - -------------------------------------- 18.1/390.0 MB 15.2 MB/s eta 0:00:25\n",
      "   -- ------------------------------------- 20.2/390.0 MB 14.6 MB/s eta 0:00:26\n",
      "   -- ------------------------------------- 22.5/390.0 MB 13.8 MB/s eta 0:00:27\n",
      "   -- ------------------------------------- 25.2/390.0 MB 13.7 MB/s eta 0:00:27\n",
      "   -- ------------------------------------- 27.8/390.0 MB 13.7 MB/s eta 0:00:27\n",
      "   --- ------------------------------------ 30.1/390.0 MB 13.5 MB/s eta 0:00:27\n",
      "   --- ------------------------------------ 33.0/390.0 MB 13.5 MB/s eta 0:00:27\n",
      "   --- ------------------------------------ 35.1/390.0 MB 13.2 MB/s eta 0:00:27\n",
      "   --- ------------------------------------ 38.3/390.0 MB 13.4 MB/s eta 0:00:27\n",
      "   ---- ----------------------------------- 41.2/390.0 MB 13.4 MB/s eta 0:00:26\n",
      "   ---- ----------------------------------- 44.3/390.0 MB 13.5 MB/s eta 0:00:26\n",
      "   ---- ----------------------------------- 46.9/390.0 MB 13.5 MB/s eta 0:00:26\n",
      "   ----- ---------------------------------- 49.8/390.0 MB 13.5 MB/s eta 0:00:26\n",
      "   ----- ---------------------------------- 53.0/390.0 MB 13.5 MB/s eta 0:00:25\n",
      "   ----- ---------------------------------- 55.3/390.0 MB 13.4 MB/s eta 0:00:25\n",
      "   ----- ---------------------------------- 57.9/390.0 MB 13.3 MB/s eta 0:00:25\n",
      "   ------ --------------------------------- 61.1/390.0 MB 13.5 MB/s eta 0:00:25\n",
      "   ------ --------------------------------- 64.5/390.0 MB 13.6 MB/s eta 0:00:25\n",
      "   ------ --------------------------------- 67.1/390.0 MB 13.5 MB/s eta 0:00:24\n",
      "   ------- -------------------------------- 70.3/390.0 MB 13.6 MB/s eta 0:00:24\n",
      "   ------- -------------------------------- 72.9/390.0 MB 13.5 MB/s eta 0:00:24\n",
      "   ------- -------------------------------- 76.0/390.0 MB 13.6 MB/s eta 0:00:24\n",
      "   -------- ------------------------------- 78.6/390.0 MB 13.6 MB/s eta 0:00:23\n",
      "   -------- ------------------------------- 81.3/390.0 MB 13.6 MB/s eta 0:00:23\n",
      "   -------- ------------------------------- 84.4/390.0 MB 13.6 MB/s eta 0:00:23\n",
      "   --------- ------------------------------ 87.8/390.0 MB 13.7 MB/s eta 0:00:23\n",
      "   --------- ------------------------------ 91.0/390.0 MB 13.7 MB/s eta 0:00:22\n",
      "   --------- ------------------------------ 94.1/390.0 MB 13.8 MB/s eta 0:00:22\n",
      "   ---------- ----------------------------- 97.5/390.0 MB 13.9 MB/s eta 0:00:22\n",
      "   ---------- ---------------------------- 100.9/390.0 MB 13.9 MB/s eta 0:00:21\n",
      "   ---------- ---------------------------- 103.8/390.0 MB 14.0 MB/s eta 0:00:21\n",
      "   ---------- ---------------------------- 105.9/390.0 MB 13.9 MB/s eta 0:00:21\n",
      "   ---------- ---------------------------- 109.3/390.0 MB 13.9 MB/s eta 0:00:21\n",
      "   ----------- --------------------------- 111.9/390.0 MB 13.9 MB/s eta 0:00:21\n",
      "   ----------- --------------------------- 114.6/390.0 MB 13.8 MB/s eta 0:00:20\n",
      "   ----------- --------------------------- 118.0/390.0 MB 13.8 MB/s eta 0:00:20\n",
      "   ------------ -------------------------- 120.6/390.0 MB 13.9 MB/s eta 0:00:20\n",
      "   ------------ -------------------------- 123.7/390.0 MB 13.8 MB/s eta 0:00:20\n",
      "   ------------ -------------------------- 126.9/390.0 MB 13.9 MB/s eta 0:00:19\n",
      "   ------------- ------------------------- 130.0/390.0 MB 13.9 MB/s eta 0:00:19\n",
      "   ------------- ------------------------- 133.4/390.0 MB 13.9 MB/s eta 0:00:19\n",
      "   ------------- ------------------------- 135.8/390.0 MB 13.9 MB/s eta 0:00:19\n",
      "   ------------- ------------------------- 138.4/390.0 MB 13.9 MB/s eta 0:00:19\n",
      "   -------------- ------------------------ 140.8/390.0 MB 13.8 MB/s eta 0:00:19\n",
      "   -------------- ------------------------ 143.9/390.0 MB 13.8 MB/s eta 0:00:18\n",
      "   -------------- ------------------------ 147.3/390.0 MB 13.9 MB/s eta 0:00:18\n",
      "   --------------- ----------------------- 150.7/390.0 MB 14.0 MB/s eta 0:00:18\n",
      "   --------------- ----------------------- 153.9/390.0 MB 14.0 MB/s eta 0:00:17\n",
      "   --------------- ----------------------- 157.3/390.0 MB 14.0 MB/s eta 0:00:17\n",
      "   ---------------- ---------------------- 160.7/390.0 MB 14.1 MB/s eta 0:00:17\n",
      "   ---------------- ---------------------- 164.1/390.0 MB 14.1 MB/s eta 0:00:17\n",
      "   ---------------- ---------------------- 167.0/390.0 MB 14.1 MB/s eta 0:00:16\n",
      "   ----------------- --------------------- 170.4/390.0 MB 14.1 MB/s eta 0:00:16\n",
      "   ----------------- --------------------- 173.5/390.0 MB 14.1 MB/s eta 0:00:16\n",
      "   ----------------- --------------------- 176.9/390.0 MB 14.1 MB/s eta 0:00:16\n",
      "   ------------------ -------------------- 180.4/390.0 MB 14.2 MB/s eta 0:00:15\n",
      "   ------------------ -------------------- 183.0/390.0 MB 14.2 MB/s eta 0:00:15\n",
      "   ------------------ -------------------- 185.3/390.0 MB 14.1 MB/s eta 0:00:15\n",
      "   ------------------ -------------------- 188.5/390.0 MB 14.1 MB/s eta 0:00:15\n",
      "   ------------------- ------------------- 191.1/390.0 MB 14.1 MB/s eta 0:00:15\n",
      "   ------------------- ------------------- 194.2/390.0 MB 14.1 MB/s eta 0:00:14\n",
      "   ------------------- ------------------- 197.4/390.0 MB 14.2 MB/s eta 0:00:14\n",
      "   -------------------- ------------------ 200.8/390.0 MB 14.2 MB/s eta 0:00:14\n",
      "   -------------------- ------------------ 203.9/390.0 MB 14.2 MB/s eta 0:00:14\n",
      "   -------------------- ------------------ 206.8/390.0 MB 14.2 MB/s eta 0:00:13\n",
      "   -------------------- ------------------ 209.5/390.0 MB 14.2 MB/s eta 0:00:13\n",
      "   --------------------- ----------------- 212.3/390.0 MB 14.2 MB/s eta 0:00:13\n",
      "   --------------------- ----------------- 215.7/390.0 MB 14.2 MB/s eta 0:00:13\n",
      "   --------------------- ----------------- 218.6/390.0 MB 14.2 MB/s eta 0:00:13\n",
      "   ---------------------- ---------------- 222.3/390.0 MB 14.2 MB/s eta 0:00:12\n",
      "   ---------------------- ---------------- 225.4/390.0 MB 14.2 MB/s eta 0:00:12\n",
      "   ---------------------- ---------------- 229.1/390.0 MB 14.2 MB/s eta 0:00:12\n",
      "   ----------------------- --------------- 232.5/390.0 MB 14.3 MB/s eta 0:00:12\n",
      "   ----------------------- --------------- 235.9/390.0 MB 14.3 MB/s eta 0:00:11\n",
      "   ----------------------- --------------- 238.6/390.0 MB 14.3 MB/s eta 0:00:11\n",
      "   ------------------------ -------------- 241.7/390.0 MB 14.3 MB/s eta 0:00:11\n",
      "   ------------------------ -------------- 244.3/390.0 MB 14.2 MB/s eta 0:00:11\n",
      "   ------------------------ -------------- 247.2/390.0 MB 14.2 MB/s eta 0:00:11\n",
      "   ------------------------- ------------- 250.6/390.0 MB 14.2 MB/s eta 0:00:10\n",
      "   ------------------------- ------------- 253.2/390.0 MB 14.2 MB/s eta 0:00:10\n",
      "   ------------------------- ------------- 256.1/390.0 MB 14.2 MB/s eta 0:00:10\n",
      "   ------------------------- ------------- 259.0/390.0 MB 14.2 MB/s eta 0:00:10\n",
      "   -------------------------- ------------ 261.9/390.0 MB 14.2 MB/s eta 0:00:10\n",
      "   -------------------------- ------------ 264.8/390.0 MB 14.3 MB/s eta 0:00:09\n",
      "   -------------------------- ------------ 267.4/390.0 MB 14.2 MB/s eta 0:00:09\n",
      "   --------------------------- ----------- 270.8/390.0 MB 14.2 MB/s eta 0:00:09\n",
      "   --------------------------- ----------- 274.5/390.0 MB 14.2 MB/s eta 0:00:09\n",
      "   --------------------------- ----------- 277.9/390.0 MB 14.2 MB/s eta 0:00:08\n",
      "   ---------------------------- ---------- 281.8/390.0 MB 14.3 MB/s eta 0:00:08\n",
      "   ---------------------------- ---------- 285.5/390.0 MB 14.4 MB/s eta 0:00:08\n",
      "   ---------------------------- ---------- 287.8/390.0 MB 14.4 MB/s eta 0:00:08\n",
      "   ----------------------------- --------- 291.2/390.0 MB 14.5 MB/s eta 0:00:07\n",
      "   ----------------------------- --------- 295.2/390.0 MB 14.5 MB/s eta 0:00:07\n",
      "   ----------------------------- --------- 298.3/390.0 MB 14.6 MB/s eta 0:00:07\n",
      "   ------------------------------ -------- 301.7/390.0 MB 14.6 MB/s eta 0:00:07\n",
      "   ------------------------------ -------- 305.7/390.0 MB 14.7 MB/s eta 0:00:06\n",
      "   ------------------------------ -------- 309.3/390.0 MB 14.7 MB/s eta 0:00:06\n",
      "   ------------------------------- ------- 313.3/390.0 MB 14.8 MB/s eta 0:00:06\n",
      "   ------------------------------- ------- 315.1/390.0 MB 14.7 MB/s eta 0:00:06\n",
      "   ------------------------------- ------- 319.0/390.0 MB 14.8 MB/s eta 0:00:05\n",
      "   -------------------------------- ------ 323.2/390.0 MB 14.8 MB/s eta 0:00:05\n",
      "   -------------------------------- ------ 327.2/390.0 MB 14.9 MB/s eta 0:00:05\n",
      "   --------------------------------- ----- 330.8/390.0 MB 14.9 MB/s eta 0:00:04\n",
      "   --------------------------------- ----- 334.5/390.0 MB 15.0 MB/s eta 0:00:04\n",
      "   --------------------------------- ----- 338.4/390.0 MB 15.1 MB/s eta 0:00:04\n",
      "   ---------------------------------- ---- 342.4/390.0 MB 15.1 MB/s eta 0:00:04\n",
      "   ---------------------------------- ---- 345.8/390.0 MB 15.2 MB/s eta 0:00:03\n",
      "   ---------------------------------- ---- 348.1/390.0 MB 15.1 MB/s eta 0:00:03\n",
      "   ----------------------------------- --- 350.5/390.0 MB 15.1 MB/s eta 0:00:03\n",
      "   ----------------------------------- --- 353.4/390.0 MB 15.0 MB/s eta 0:00:03\n",
      "   ----------------------------------- --- 357.0/390.0 MB 15.1 MB/s eta 0:00:03\n",
      "   ------------------------------------ -- 361.2/390.0 MB 15.1 MB/s eta 0:00:02\n",
      "   ------------------------------------ -- 365.2/390.0 MB 15.1 MB/s eta 0:00:02\n",
      "   ------------------------------------ -- 368.8/390.0 MB 15.2 MB/s eta 0:00:02\n",
      "   ------------------------------------- - 372.8/390.0 MB 15.3 MB/s eta 0:00:02\n",
      "   ------------------------------------- - 376.2/390.0 MB 15.3 MB/s eta 0:00:01\n",
      "   ------------------------------------- - 379.8/390.0 MB 15.4 MB/s eta 0:00:01\n",
      "   --------------------------------------  381.9/390.0 MB 15.3 MB/s eta 0:00:01\n",
      "   --------------------------------------  385.6/390.0 MB 15.4 MB/s eta 0:00:01\n",
      "   --------------------------------------  389.3/390.0 MB 15.4 MB/s eta 0:00:01\n",
      "   --------------------------------------  389.8/390.0 MB 15.4 MB/s eta 0:00:01\n",
      "   --------------------------------------- 390.0/390.0 MB 15.2 MB/s eta 0:00:00\n",
      "Downloading ml_dtypes-0.4.1-cp39-cp39-win_amd64.whl (126 kB)\n",
      "Downloading astunparse-1.6.3-py2.py3-none-any.whl (12 kB)\n",
      "Downloading flatbuffers-24.12.23-py2.py3-none-any.whl (30 kB)\n",
      "Downloading gast-0.6.0-py3-none-any.whl (21 kB)\n",
      "Downloading google_pasta-0.2.0-py3-none-any.whl (57 kB)\n",
      "Downloading grpcio-1.69.0-cp39-cp39-win_amd64.whl (4.4 MB)\n",
      "   ---------------------------------------- 0.0/4.4 MB ? eta -:--:--\n",
      "   --------------------------------- ------ 3.7/4.4 MB 19.9 MB/s eta 0:00:01\n",
      "   ---------------------------------------- 4.4/4.4 MB 19.0 MB/s eta 0:00:00\n",
      "Downloading libclang-18.1.1-py2.py3-none-win_amd64.whl (26.4 MB)\n",
      "   ---------------------------------------- 0.0/26.4 MB ? eta -:--:--\n",
      "   ----- ---------------------------------- 3.4/26.4 MB 18.3 MB/s eta 0:00:02\n",
      "   --------- ------------------------------ 6.6/26.4 MB 16.1 MB/s eta 0:00:02\n",
      "   ------------- -------------------------- 9.2/26.4 MB 15.0 MB/s eta 0:00:02\n",
      "   ----------------- ---------------------- 11.8/26.4 MB 14.5 MB/s eta 0:00:02\n",
      "   ----------------------- ---------------- 15.5/26.4 MB 15.0 MB/s eta 0:00:01\n",
      "   ---------------------------- ----------- 18.6/26.4 MB 15.1 MB/s eta 0:00:01\n",
      "   --------------------------------- ------ 22.3/26.4 MB 15.5 MB/s eta 0:00:01\n",
      "   -------------------------------------- - 25.4/26.4 MB 15.3 MB/s eta 0:00:01\n",
      "   ---------------------------------------- 26.4/26.4 MB 15.4 MB/s eta 0:00:00\n",
      "Downloading opt_einsum-3.4.0-py3-none-any.whl (71 kB)\n",
      "Downloading protobuf-5.29.2-cp39-cp39-win_amd64.whl (434 kB)\n",
      "Downloading tensorboard-2.18.0-py3-none-any.whl (5.5 MB)\n",
      "   ---------------------------------------- 0.0/5.5 MB ? eta -:--:--\n",
      "   ------------------------ --------------- 3.4/5.5 MB 16.7 MB/s eta 0:00:01\n",
      "   ---------------------------------------- 5.5/5.5 MB 17.6 MB/s eta 0:00:00\n",
      "Downloading tensorflow_io_gcs_filesystem-0.31.0-cp39-cp39-win_amd64.whl (1.5 MB)\n",
      "   ---------------------------------------- 0.0/1.5 MB ? eta -:--:--\n",
      "   ---------------------------------------- 1.5/1.5 MB 19.4 MB/s eta 0:00:00\n",
      "Downloading termcolor-2.5.0-py3-none-any.whl (7.8 kB)\n",
      "Downloading wrapt-1.17.0-cp39-cp39-win_amd64.whl (38 kB)\n",
      "Downloading Markdown-3.7-py3-none-any.whl (106 kB)\n",
      "Downloading tensorboard_data_server-0.7.2-py3-none-any.whl (2.4 kB)\n",
      "Downloading werkzeug-3.1.3-py3-none-any.whl (224 kB)\n",
      "Downloading MarkupSafe-3.0.2-cp39-cp39-win_amd64.whl (15 kB)\n",
      "Downloading zipp-3.21.0-py3-none-any.whl (9.6 kB)\n",
      "Installing collected packages: libclang, flatbuffers, zipp, wrapt, termcolor, tensorflow-io-gcs-filesystem, tensorboard-data-server, protobuf, opt-einsum, ml-dtypes, MarkupSafe, grpcio, google-pasta, gast, astunparse, werkzeug, markdown, tensorboard, tensorflow-intel, tensorflow\n",
      "  Attempting uninstall: zipp\n",
      "    Found existing installation: zipp 3.17.0\n",
      "    Uninstalling zipp-3.17.0:\n",
      "      Successfully uninstalled zipp-3.17.0\n",
      "  Attempting uninstall: ml-dtypes\n",
      "    Found existing installation: ml_dtypes 0.5.1\n",
      "    Uninstalling ml_dtypes-0.5.1:\n",
      "      Successfully uninstalled ml_dtypes-0.5.1\n",
      "Successfully installed MarkupSafe-3.0.2 astunparse-1.6.3 flatbuffers-24.12.23 gast-0.6.0 google-pasta-0.2.0 grpcio-1.69.0 libclang-18.1.1 markdown-3.7 ml-dtypes-0.4.1 opt-einsum-3.4.0 protobuf-5.29.2 tensorboard-2.18.0 tensorboard-data-server-0.7.2 tensorflow-2.18.0 tensorflow-intel-2.18.0 tensorflow-io-gcs-filesystem-0.31.0 termcolor-2.5.0 werkzeug-3.1.3 wrapt-1.17.0 zipp-3.21.0\n",
      "Note: you may need to restart the kernel to use updated packages.\n"
     ]
    }
   ],
   "source": [
    "%pip install keras tensorflow"
   ]
  },
  {
   "cell_type": "code",
   "execution_count": 38,
   "metadata": {
    "tags": []
   },
   "outputs": [],
   "source": [
    "import keras"
   ]
  },
  {
   "cell_type": "markdown",
   "metadata": {},
   "source": [
    "As you can see, the TensorFlow backend was used to install the Keras library.\n"
   ]
  },
  {
   "cell_type": "markdown",
   "metadata": {},
   "source": [
    "Let's import the rest of the packages from the Keras library that we will need to build our regressoin model.\n"
   ]
  },
  {
   "cell_type": "code",
   "execution_count": 39,
   "metadata": {
    "tags": []
   },
   "outputs": [],
   "source": [
    "from keras.models import Sequential\n",
    "from keras.layers import Dense"
   ]
  },
  {
   "cell_type": "markdown",
   "metadata": {},
   "source": [
    "<a id='item33'></a>\n"
   ]
  },
  {
   "cell_type": "markdown",
   "metadata": {},
   "source": [
    "## Build a Neural Network\n"
   ]
  },
  {
   "cell_type": "markdown",
   "metadata": {},
   "source": [
    "Let's define a function that defines our regression model for us so that we can conveniently call it to create our model.\n"
   ]
  },
  {
   "cell_type": "code",
   "execution_count": 40,
   "metadata": {
    "tags": []
   },
   "outputs": [],
   "source": [
    "# define regression model\n",
    "def regression_model():\n",
    "    # create model\n",
    "    model = Sequential()\n",
    "    model.add(Dense(50, activation='relu', input_shape=(n_cols,)))\n",
    "    model.add(Dense(50, activation='relu'))\n",
    "    model.add(Dense(1))\n",
    "    \n",
    "    # compile model\n",
    "    model.compile(optimizer='adam', loss='mean_squared_error')\n",
    "    return model"
   ]
  },
  {
   "cell_type": "markdown",
   "metadata": {},
   "source": [
    "The above function create a model that has two hidden layers, each of 50 hidden units.\n"
   ]
  },
  {
   "cell_type": "markdown",
   "metadata": {},
   "source": [
    "<a id=\"item4\"></a>\n"
   ]
  },
  {
   "cell_type": "markdown",
   "metadata": {},
   "source": [
    "<a id='item34'></a>\n"
   ]
  },
  {
   "cell_type": "markdown",
   "metadata": {},
   "source": [
    "## Train and Test the Network\n"
   ]
  },
  {
   "cell_type": "markdown",
   "metadata": {},
   "source": [
    "Let's call the function now to create our model.\n"
   ]
  },
  {
   "cell_type": "code",
   "execution_count": 41,
   "metadata": {
    "tags": []
   },
   "outputs": [
    {
     "name": "stderr",
     "output_type": "stream",
     "text": [
      "c:\\Users\\provi\\anaconda3\\envs\\data_science_env\\lib\\site-packages\\keras\\src\\layers\\core\\dense.py:87: UserWarning: Do not pass an `input_shape`/`input_dim` argument to a layer. When using Sequential models, prefer using an `Input(shape)` object as the first layer in the model instead.\n",
      "  super().__init__(activity_regularizer=activity_regularizer, **kwargs)\n"
     ]
    }
   ],
   "source": [
    "# build the model\n",
    "model = regression_model()"
   ]
  },
  {
   "cell_type": "markdown",
   "metadata": {},
   "source": [
    "Next, we will train and test the model at the same time using the *fit* method. We will leave out 30% of the data for validation and we will train the model for 100 epochs.\n"
   ]
  },
  {
   "cell_type": "code",
   "execution_count": 42,
   "metadata": {
    "tags": []
   },
   "outputs": [
    {
     "name": "stdout",
     "output_type": "stream",
     "text": [
      "Epoch 1/100\n",
      "23/23 - 0s - 20ms/step - loss: 1652.4563 - val_loss: 1157.8993\n",
      "Epoch 2/100\n",
      "23/23 - 0s - 2ms/step - loss: 1526.4852 - val_loss: 1041.9340\n",
      "Epoch 3/100\n",
      "23/23 - 0s - 3ms/step - loss: 1326.1500 - val_loss: 858.9293\n",
      "Epoch 4/100\n",
      "23/23 - 0s - 3ms/step - loss: 1027.5337 - val_loss: 619.5635\n",
      "Epoch 5/100\n",
      "23/23 - 0s - 3ms/step - loss: 677.4289 - val_loss: 376.1767\n",
      "Epoch 6/100\n",
      "23/23 - 0s - 2ms/step - loss: 397.4343 - val_loss: 218.8297\n",
      "Epoch 7/100\n",
      "23/23 - 0s - 2ms/step - loss: 272.0340 - val_loss: 168.2070\n",
      "Epoch 8/100\n",
      "23/23 - 0s - 2ms/step - loss: 238.0865 - val_loss: 157.4035\n",
      "Epoch 9/100\n",
      "23/23 - 0s - 3ms/step - loss: 221.1278 - val_loss: 155.2335\n",
      "Epoch 10/100\n",
      "23/23 - 0s - 3ms/step - loss: 209.1165 - val_loss: 154.8391\n",
      "Epoch 11/100\n",
      "23/23 - 0s - 3ms/step - loss: 199.5624 - val_loss: 151.8738\n",
      "Epoch 12/100\n",
      "23/23 - 0s - 3ms/step - loss: 192.1266 - val_loss: 150.1399\n",
      "Epoch 13/100\n",
      "23/23 - 0s - 3ms/step - loss: 185.7021 - val_loss: 147.1459\n",
      "Epoch 14/100\n",
      "23/23 - 0s - 2ms/step - loss: 180.1286 - val_loss: 146.3313\n",
      "Epoch 15/100\n",
      "23/23 - 0s - 2ms/step - loss: 175.1984 - val_loss: 146.8969\n",
      "Epoch 16/100\n",
      "23/23 - 0s - 3ms/step - loss: 170.9770 - val_loss: 147.8365\n",
      "Epoch 17/100\n",
      "23/23 - 0s - 3ms/step - loss: 167.2495 - val_loss: 147.0595\n",
      "Epoch 18/100\n",
      "23/23 - 0s - 3ms/step - loss: 163.8179 - val_loss: 145.2582\n",
      "Epoch 19/100\n",
      "23/23 - 0s - 3ms/step - loss: 160.9810 - val_loss: 147.1195\n",
      "Epoch 20/100\n",
      "23/23 - 0s - 3ms/step - loss: 158.0992 - val_loss: 146.1883\n",
      "Epoch 21/100\n",
      "23/23 - 0s - 3ms/step - loss: 156.1292 - val_loss: 147.9597\n",
      "Epoch 22/100\n",
      "23/23 - 0s - 3ms/step - loss: 153.5736 - val_loss: 150.0463\n",
      "Epoch 23/100\n",
      "23/23 - 0s - 2ms/step - loss: 151.1021 - val_loss: 149.1659\n",
      "Epoch 24/100\n",
      "23/23 - 0s - 3ms/step - loss: 148.9982 - val_loss: 149.1063\n",
      "Epoch 25/100\n",
      "23/23 - 0s - 2ms/step - loss: 147.4931 - val_loss: 150.4721\n",
      "Epoch 26/100\n",
      "23/23 - 0s - 2ms/step - loss: 145.5978 - val_loss: 151.7601\n",
      "Epoch 27/100\n",
      "23/23 - 0s - 3ms/step - loss: 144.4351 - val_loss: 153.4801\n",
      "Epoch 28/100\n",
      "23/23 - 0s - 3ms/step - loss: 143.1193 - val_loss: 155.1208\n",
      "Epoch 29/100\n",
      "23/23 - 0s - 2ms/step - loss: 140.8856 - val_loss: 154.0539\n",
      "Epoch 30/100\n",
      "23/23 - 0s - 2ms/step - loss: 140.0420 - val_loss: 155.5351\n",
      "Epoch 31/100\n",
      "23/23 - 0s - 3ms/step - loss: 138.0364 - val_loss: 153.7493\n",
      "Epoch 32/100\n",
      "23/23 - 0s - 3ms/step - loss: 136.8955 - val_loss: 158.9739\n",
      "Epoch 33/100\n",
      "23/23 - 0s - 3ms/step - loss: 136.8251 - val_loss: 155.8491\n",
      "Epoch 34/100\n",
      "23/23 - 0s - 3ms/step - loss: 134.6694 - val_loss: 157.9818\n",
      "Epoch 35/100\n",
      "23/23 - 0s - 2ms/step - loss: 133.5860 - val_loss: 157.7077\n",
      "Epoch 36/100\n",
      "23/23 - 0s - 3ms/step - loss: 132.4375 - val_loss: 159.4680\n",
      "Epoch 37/100\n",
      "23/23 - 0s - 3ms/step - loss: 131.3766 - val_loss: 157.4754\n",
      "Epoch 38/100\n",
      "23/23 - 0s - 3ms/step - loss: 130.2464 - val_loss: 158.7090\n",
      "Epoch 39/100\n",
      "23/23 - 0s - 3ms/step - loss: 128.4961 - val_loss: 158.1612\n",
      "Epoch 40/100\n",
      "23/23 - 0s - 3ms/step - loss: 127.1518 - val_loss: 158.5190\n",
      "Epoch 41/100\n",
      "23/23 - 0s - 3ms/step - loss: 125.5135 - val_loss: 157.3747\n",
      "Epoch 42/100\n",
      "23/23 - 0s - 3ms/step - loss: 124.3876 - val_loss: 157.7537\n",
      "Epoch 43/100\n",
      "23/23 - 0s - 3ms/step - loss: 123.2377 - val_loss: 156.4739\n",
      "Epoch 44/100\n",
      "23/23 - 0s - 3ms/step - loss: 121.2404 - val_loss: 158.7744\n",
      "Epoch 45/100\n",
      "23/23 - 0s - 3ms/step - loss: 121.4491 - val_loss: 158.8210\n",
      "Epoch 46/100\n",
      "23/23 - 0s - 3ms/step - loss: 118.5418 - val_loss: 157.1440\n",
      "Epoch 47/100\n",
      "23/23 - 0s - 3ms/step - loss: 117.0889 - val_loss: 155.2164\n",
      "Epoch 48/100\n",
      "23/23 - 0s - 3ms/step - loss: 115.3468 - val_loss: 153.5397\n",
      "Epoch 49/100\n",
      "23/23 - 0s - 3ms/step - loss: 113.2820 - val_loss: 149.2287\n",
      "Epoch 50/100\n",
      "23/23 - 0s - 3ms/step - loss: 110.6912 - val_loss: 148.7816\n",
      "Epoch 51/100\n",
      "23/23 - 0s - 3ms/step - loss: 108.6821 - val_loss: 150.6468\n",
      "Epoch 52/100\n",
      "23/23 - 0s - 3ms/step - loss: 106.8997 - val_loss: 148.6752\n",
      "Epoch 53/100\n",
      "23/23 - 0s - 3ms/step - loss: 104.4559 - val_loss: 146.1641\n",
      "Epoch 54/100\n",
      "23/23 - 0s - 3ms/step - loss: 101.9904 - val_loss: 144.4936\n",
      "Epoch 55/100\n",
      "23/23 - 0s - 3ms/step - loss: 100.2160 - val_loss: 145.6831\n",
      "Epoch 56/100\n",
      "23/23 - 0s - 3ms/step - loss: 98.1357 - val_loss: 140.7366\n",
      "Epoch 57/100\n",
      "23/23 - 0s - 3ms/step - loss: 95.4567 - val_loss: 145.2705\n",
      "Epoch 58/100\n",
      "23/23 - 0s - 3ms/step - loss: 93.3030 - val_loss: 138.6373\n",
      "Epoch 59/100\n",
      "23/23 - 0s - 3ms/step - loss: 91.3616 - val_loss: 138.0252\n",
      "Epoch 60/100\n",
      "23/23 - 0s - 2ms/step - loss: 88.7646 - val_loss: 139.8990\n",
      "Epoch 61/100\n",
      "23/23 - 0s - 2ms/step - loss: 86.1431 - val_loss: 136.5126\n",
      "Epoch 62/100\n",
      "23/23 - 0s - 2ms/step - loss: 83.2940 - val_loss: 130.4627\n",
      "Epoch 63/100\n",
      "23/23 - 0s - 3ms/step - loss: 80.6768 - val_loss: 133.7656\n",
      "Epoch 64/100\n",
      "23/23 - 0s - 2ms/step - loss: 77.9724 - val_loss: 131.2942\n",
      "Epoch 65/100\n",
      "23/23 - 0s - 3ms/step - loss: 76.7526 - val_loss: 133.9417\n",
      "Epoch 66/100\n",
      "23/23 - 0s - 3ms/step - loss: 73.7308 - val_loss: 126.9839\n",
      "Epoch 67/100\n",
      "23/23 - 0s - 2ms/step - loss: 71.6184 - val_loss: 130.6709\n",
      "Epoch 68/100\n",
      "23/23 - 0s - 2ms/step - loss: 69.9916 - val_loss: 122.1097\n",
      "Epoch 69/100\n",
      "23/23 - 0s - 3ms/step - loss: 67.9448 - val_loss: 124.5920\n",
      "Epoch 70/100\n",
      "23/23 - 0s - 2ms/step - loss: 65.4814 - val_loss: 125.1488\n",
      "Epoch 71/100\n",
      "23/23 - 0s - 3ms/step - loss: 64.0919 - val_loss: 123.1793\n",
      "Epoch 72/100\n",
      "23/23 - 0s - 2ms/step - loss: 62.2165 - val_loss: 119.7806\n",
      "Epoch 73/100\n",
      "23/23 - 0s - 2ms/step - loss: 60.5133 - val_loss: 126.3455\n",
      "Epoch 74/100\n",
      "23/23 - 0s - 2ms/step - loss: 59.5523 - val_loss: 124.6401\n",
      "Epoch 75/100\n",
      "23/23 - 0s - 3ms/step - loss: 58.0805 - val_loss: 118.6454\n",
      "Epoch 76/100\n",
      "23/23 - 0s - 2ms/step - loss: 56.9296 - val_loss: 127.2115\n",
      "Epoch 77/100\n",
      "23/23 - 0s - 3ms/step - loss: 55.0308 - val_loss: 117.3760\n",
      "Epoch 78/100\n",
      "23/23 - 0s - 3ms/step - loss: 54.0721 - val_loss: 117.6507\n",
      "Epoch 79/100\n",
      "23/23 - 0s - 2ms/step - loss: 52.5998 - val_loss: 121.5026\n",
      "Epoch 80/100\n",
      "23/23 - 0s - 3ms/step - loss: 51.9189 - val_loss: 111.8172\n",
      "Epoch 81/100\n",
      "23/23 - 0s - 3ms/step - loss: 51.1283 - val_loss: 119.7332\n",
      "Epoch 82/100\n",
      "23/23 - 0s - 3ms/step - loss: 49.7128 - val_loss: 118.3678\n",
      "Epoch 83/100\n",
      "23/23 - 0s - 3ms/step - loss: 48.6914 - val_loss: 115.9065\n",
      "Epoch 84/100\n",
      "23/23 - 0s - 3ms/step - loss: 47.6071 - val_loss: 127.1190\n",
      "Epoch 85/100\n",
      "23/23 - 0s - 3ms/step - loss: 48.1958 - val_loss: 113.2998\n",
      "Epoch 86/100\n",
      "23/23 - 0s - 3ms/step - loss: 46.0124 - val_loss: 124.7380\n",
      "Epoch 87/100\n",
      "23/23 - 0s - 3ms/step - loss: 45.7012 - val_loss: 111.7608\n",
      "Epoch 88/100\n",
      "23/23 - 0s - 3ms/step - loss: 44.9364 - val_loss: 115.5335\n",
      "Epoch 89/100\n",
      "23/23 - 0s - 2ms/step - loss: 44.1536 - val_loss: 113.8315\n",
      "Epoch 90/100\n",
      "23/23 - 0s - 3ms/step - loss: 43.2373 - val_loss: 124.7184\n",
      "Epoch 91/100\n",
      "23/23 - 0s - 3ms/step - loss: 43.0416 - val_loss: 113.6547\n",
      "Epoch 92/100\n",
      "23/23 - 0s - 2ms/step - loss: 42.4366 - val_loss: 122.1971\n",
      "Epoch 93/100\n",
      "23/23 - 0s - 3ms/step - loss: 41.8261 - val_loss: 116.7344\n",
      "Epoch 94/100\n",
      "23/23 - 0s - 3ms/step - loss: 41.1756 - val_loss: 118.2368\n",
      "Epoch 95/100\n",
      "23/23 - 0s - 3ms/step - loss: 41.2192 - val_loss: 114.1417\n",
      "Epoch 96/100\n",
      "23/23 - 0s - 2ms/step - loss: 40.7142 - val_loss: 111.1970\n",
      "Epoch 97/100\n",
      "23/23 - 0s - 3ms/step - loss: 40.0084 - val_loss: 121.4240\n",
      "Epoch 98/100\n",
      "23/23 - 0s - 3ms/step - loss: 39.6077 - val_loss: 128.5083\n",
      "Epoch 99/100\n",
      "23/23 - 0s - 3ms/step - loss: 39.6803 - val_loss: 113.6225\n",
      "Epoch 100/100\n",
      "23/23 - 0s - 2ms/step - loss: 39.0910 - val_loss: 116.3717\n"
     ]
    },
    {
     "data": {
      "text/plain": [
       "<keras.src.callbacks.history.History at 0x22f54d1a2b0>"
      ]
     },
     "execution_count": 42,
     "metadata": {},
     "output_type": "execute_result"
    }
   ],
   "source": [
    "# fit the model\n",
    "model.fit(predictors_norm, target, validation_split=0.3, epochs=100, verbose=2)"
   ]
  },
  {
   "cell_type": "markdown",
   "metadata": {},
   "source": [
    "<strong>You can refer to this [link](https://keras.io/models/sequential/?utm_medium=Exinfluencer&utm_source=Exinfluencer&utm_content=000026UJ&utm_term=10006555&utm_id=NA-SkillsNetwork-Channel-SkillsNetworkCoursesIBMDeveloperSkillsNetworkDL0101ENSkillsNetwork945-2022-01-01) to learn about other functions that you can use for prediction or evaluation.</strong>\n"
   ]
  },
  {
   "cell_type": "markdown",
   "metadata": {},
   "source": [
    "Feel free to vary the following and note what impact each change has on the model's performance:\n",
    "\n",
    "1. Increase or decreate number of neurons in hidden layers\n",
    "2. Add more hidden layers\n",
    "3. Increase number of epochs\n"
   ]
  },
  {
   "cell_type": "markdown",
   "metadata": {},
   "source": [
    "### Thank you for completing this lab!\n",
    "\n",
    "This notebook was created by [Alex Aklson](https://www.linkedin.com/in/aklson/?utm_medium=Exinfluencer&utm_source=Exinfluencer&utm_content=000026UJ&utm_term=10006555&utm_id=NA-SkillsNetwork-Channel-SkillsNetworkCoursesIBMDeveloperSkillsNetworkDL0101ENSkillsNetwork945-2022-01-01). I hope you found this lab interesting and educational. Feel free to contact me if you have any questions!\n"
   ]
  },
  {
   "cell_type": "markdown",
   "metadata": {},
   "source": [
    "\n",
    "## Change Log\n",
    "\n",
    "|  Date (YYYY-MM-DD) |  Version | Changed By  |  Change Description |\n",
    "|---|---|---|---|\n",
    "| 2020-09-21  | 2.0  | Srishti  |  Migrated Lab to Markdown and added to course repo in GitLab |\n",
    "\n",
    "\n",
    "\n",
    "<hr>\n",
    "\n",
    "## <h3 align=\"center\"> © IBM Corporation 2020. All rights reserved. <h3/>\n"
   ]
  },
  {
   "cell_type": "markdown",
   "metadata": {},
   "source": [
    "This notebook is part of a course on **Coursera** called *Introduction to Deep Learning & Neural Networks with Keras*. If you accessed this notebook outside the course, you can take this course online by clicking [here](https://cocl.us/DL0101EN_Coursera_Week3_LAB1).\n"
   ]
  },
  {
   "cell_type": "markdown",
   "metadata": {},
   "source": [
    "<hr>\n",
    "\n",
    "Copyright &copy; 2019 [IBM Developer Skills Network](https://cognitiveclass.ai/?utm_medium=dswb&utm_source=bducopyrightlink&utm_content=000026UJ&utm_term=10006555&utm_id=NA-SkillsNetwork-Channel-SkillsNetworkCoursesIBMDeveloperSkillsNetworkDL0101ENSkillsNetwork945-2022-01-01&utm_campaign=bdu). This notebook and its source code are released under the terms of the [MIT License](https://bigdatauniversity.com/mit-license/?utm_medium=Exinfluencer&utm_source=Exinfluencer&utm_content=000026UJ&utm_term=10006555&utm_id=NA-SkillsNetwork-Channel-SkillsNetworkCoursesIBMDeveloperSkillsNetworkDL0101ENSkillsNetwork945-2022-01-01).\n"
   ]
  }
 ],
 "metadata": {
  "kernelspec": {
   "display_name": "Python 3 (ipykernel)",
   "language": "python",
   "name": "python3"
  },
  "language_info": {
   "codemirror_mode": {
    "name": "ipython",
    "version": 3
   },
   "file_extension": ".py",
   "mimetype": "text/x-python",
   "name": "python",
   "nbconvert_exporter": "python",
   "pygments_lexer": "ipython3",
   "version": "3.9.20"
  }
 },
 "nbformat": 4,
 "nbformat_minor": 4
}
